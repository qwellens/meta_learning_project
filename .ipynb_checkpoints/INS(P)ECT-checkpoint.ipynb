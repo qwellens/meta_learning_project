{
 "cells": [
  {
   "cell_type": "code",
   "execution_count": 74,
   "metadata": {},
   "outputs": [],
   "source": [
    "import numpy as np\n",
    "import matplotlib.pyplot as plt\n",
    "import torch\n",
    "import torch.nn as nn\n",
    "import torch.nn.functional as F\n",
    "import random\n",
    "import copy\n",
    "from torch.autograd import Variable as V"
   ]
  },
  {
   "cell_type": "markdown",
   "metadata": {},
   "source": [
    "# Data generation"
   ]
  },
  {
   "cell_type": "markdown",
   "metadata": {},
   "source": [
    "Let's create our tasks for sine, square, and triangle waves and potential noise in training sets."
   ]
  },
  {
   "cell_type": "code",
   "execution_count": 109,
   "metadata": {},
   "outputs": [],
   "source": [
    "class Wave:\n",
    "    def __init__(self, K, noise_percent):\n",
    "        # K as in K-shot learning\n",
    "        self.amp = np.random.uniform(0.1, 5.0)\n",
    "        self.phase = np.random.uniform(0, np.pi)\n",
    "        self.K = K\n",
    "        self.noise_percent = noise_percent\n",
    "        self.mini_train = None\n",
    "        self.mini_test = None\n",
    "        \n",
    "    def mini_train_set(self):\n",
    "        if self.mini_train is None:\n",
    "            x = np.random.uniform(-5, 5, (self.K, 1))\n",
    "            y = self.f(x) + np.random.normal(0, self.noise_percent*self.amp, (self.K, 1))\n",
    "            self.mini_train=(x,y)\n",
    "        return torch.Tensor(self.mini_train[0]), torch.Tensor(self.mini_train[1])\n",
    "    \n",
    "    def mini_test_set(self):\n",
    "        self.mini_test = x = np.random.uniform(-5, 5, (self.K, 1))\n",
    "        y = self.f(x)\n",
    "        return torch.Tensor(x), torch.Tensor(y)\n",
    "    \n",
    "    def eval_set(self, size=50):\n",
    "        x = np.linspace(-5, 5, size).reshape((size, 1))\n",
    "        y = self.f(x)\n",
    "        return torch.Tensor(x), torch.Tensor(y)\n",
    "    \n",
    "class SineWave(Wave):\n",
    "    def __init__(self, K = 10, noise_percent = 0):\n",
    "        super().__init__(K,noise_percent)\n",
    "\n",
    "    def f(self, x):\n",
    "        return self.amp * np.sin(x + self.phase)\n",
    "    \n",
    "class SquareWave(Wave):\n",
    "    def __init__(self, K = 10, noise_percent = 0):\n",
    "        super().__init__(K, noise_percent)\n",
    "\n",
    "    def f(self, x):\n",
    "        return self.amp * sp.square(x + self.phase)\n",
    "    \n",
    "class SawtoothWave(Wave):\n",
    "    def __init__(self, K = 10, noise_percent = 0):\n",
    "        super().__init__(K, noise_percent)\n",
    "\n",
    "    def f(self, x):\n",
    "        return self.amp * sp.sawtooth(x + self.phase)"
   ]
  },
  {
   "cell_type": "code",
   "execution_count": 76,
   "metadata": {},
   "outputs": [],
   "source": [
    "class DataGenerator:\n",
    "    def __init__(self, function, size=50000, K = 10, noise_percent=0):\n",
    "        self.size = size\n",
    "        self.K = K\n",
    "        self.function = function\n",
    "        self.noise_percent = noise_percent\n",
    "        self.tasks = None \n",
    "        \n",
    "    def generate_set(self):\n",
    "        config = {\"sine\" : SineWave, \"square\" : SquareWave, \"sawtooth\" : SawtoothWave}\n",
    "        self.tasks = tasks = [config[self.function](self.K, self.noise_percent) for _ in range(self.size)]\n",
    "        return tasks\n",
    "    \n",
    "    def shuffled_set(self):\n",
    "        if self.tasks is None:\n",
    "            self.generate_set()\n",
    "        return random.sample(self.tasks, len(self.tasks))"
   ]
  },
  {
   "cell_type": "markdown",
   "metadata": {},
   "source": [
    "# Model creation"
   ]
  },
  {
   "cell_type": "code",
   "execution_count": 77,
   "metadata": {},
   "outputs": [],
   "source": [
    "class Net(nn.Module):\n",
    "    def __init__(self):\n",
    "        super().__init__()\n",
    "        self.hidden1 = nn.Linear(1, 40)\n",
    "        self.hidden2 = nn.Linear(40, 40)\n",
    "        self.out = nn.Linear(40, 1)\n",
    "        \n",
    "    def forward(self, x):\n",
    "        x = F.relu(self.hidden1(x))\n",
    "        x = F.relu(self.hidden2(x))\n",
    "        return self.out(x)"
   ]
  },
  {
   "cell_type": "markdown",
   "metadata": {},
   "source": [
    "# Reptile Meta-Learning Algorithm"
   ]
  },
  {
   "cell_type": "code",
   "execution_count": 123,
   "metadata": {},
   "outputs": [],
   "source": [
    "class MetaLearner():\n",
    "    def __init__(self, higher_order=False, lr_inner=0.01, lr_outer=0.001, sgd_steps_inner=10):\n",
    "        self.lr_inner = lr_inner\n",
    "        self.lr_outer = lr_outer\n",
    "        self.sgd_steps_inner = sgd_steps_inner\n",
    "        self.higher_order = higher_order\n",
    "        \n",
    "    def inner_train(self, model, task, optimizer):\n",
    "        optimizer.zero_grad()\n",
    "        x, y = task.mini_train_set()\n",
    "        predicted = model(x)\n",
    "        loss = F.mse_loss(predicted, y)\n",
    "        loss.backward(create_graph=self.higher_order, retain_graph=self.higher_order)\n",
    "        optimizer.step()\n",
    "    \n",
    "    def init_grad(self, model):\n",
    "        for param in model.parameters():\n",
    "            param.grad = torch.zeros_like(param)\n",
    "        \n",
    "class Reptile(MetaLearner):\n",
    "    def __init__(self, lr_inner=0.01, lr_outer=0.001, sgd_steps_inner=10):\n",
    "        super().__init__(False, lr_inner, lr_outer, sgd_steps_inner)\n",
    "        \n",
    "    def compute_store_gradients(self, target, current):\n",
    "        current_weights = dict(current.named_parameters())\n",
    "        target_weights = dict(target.named_parameters())\n",
    "        gradients = {name: (current_weights[name].data - target_weights[name].data) / (self.sgd_steps_inner * self.lr_inner) for name in target_weights}\n",
    "\n",
    "        for name in current_weights:\n",
    "            current_weights[name].grad.data = gradients[name]\n",
    "\n",
    "    def train(self, model, train_data):\n",
    "        optimizer = torch.optim.Adam(model.parameters(), lr=self.lr_outer)\n",
    "        self.init_grad(model)\n",
    "\n",
    "        for i, task in enumerate(train_data.shuffled_set()):\n",
    "            optimizer.zero_grad()\n",
    "\n",
    "            inner_model = copy.deepcopy(model)\n",
    "            inner_optim = torch.optim.SGD(inner_model.parameters(), lr=self.lr_inner)\n",
    "\n",
    "            for _ in range(self.sgd_steps_inner):\n",
    "                self.inner_train(inner_model, task, inner_optim)\n",
    "\n",
    "            self.compute_store_gradients(inner_model, model)\n",
    "            optimizer.step()\n",
    "\n",
    "            if i % 5000 == 0:\n",
    "                print(\"iteration:\", i)"
   ]
  },
  {
   "cell_type": "code",
   "execution_count": 116,
   "metadata": {},
   "outputs": [
    {
     "name": "stdout",
     "output_type": "stream",
     "text": [
      "iteration: 0\n",
      "iteration: 5000\n",
      "iteration: 10000\n",
      "iteration: 15000\n",
      "iteration: 20000\n",
      "iteration: 25000\n",
      "iteration: 30000\n",
      "iteration: 35000\n",
      "iteration: 40000\n",
      "iteration: 45000\n"
     ]
    }
   ],
   "source": [
    "reptile_model = Net()\n",
    "reptile_learning_alg = Reptile()\n",
    "train_data = DataGenerator(\"sine\")\n",
    "reptile_learning_alg.train(reptile_model, train_data)\n"
   ]
  },
  {
   "cell_type": "code",
   "execution_count": 117,
   "metadata": {},
   "outputs": [],
   "source": [
    "def eval(model):\n",
    "    test_task = SineWave()\n",
    "#     xtest, ytest = test.mini_test_set()\n",
    "    xeval, yeval = test_task.eval_set(size=100)\n",
    "\n",
    "    model = copy.deepcopy(model)\n",
    "    optim = torch.optim.SGD(model.parameters(), lr=0.01)\n",
    "    losses = []\n",
    "    \n",
    "    for i in range(10):\n",
    "        inner_train(model, test_task, optim)\n",
    "        predicted = model(xeval)\n",
    "        losses.append(F.mse_loss(predicted, yeval).item())\n",
    "    \n",
    "    xplot = xeval.numpy()\n",
    "    yplot = yeval.numpy()\n",
    "    predicted_plot = predicted.detach().numpy()\n",
    "    \n",
    "    plt.plot(xplot, yplot, 'g', label=\"ground truth\")\n",
    "    plt.plot(xplot, predicted_plot, 'r', label=\"predicted\")\n",
    "    plt.show()\n",
    "    \n",
    "    plt.plot(losses)\n",
    "    plt.show()\n"
   ]
  },
  {
   "cell_type": "code",
   "execution_count": 118,
   "metadata": {},
   "outputs": [
    {
     "data": {
      "image/png": "[encoded data removed]",
      "text/plain": [
       "<Figure size 432x288 with 1 Axes>"
      ]
     },
     "metadata": {
      "needs_background": "light"
     },
     "output_type": "display_data"
    },
    {
     "data": {
      "image/png": "[encoded data removed]",
      "text/plain": [
       "<Figure size 432x288 with 1 Axes>"
      ]
     },
     "metadata": {
      "needs_background": "light"
     },
     "output_type": "display_data"
    }
   ],
   "source": [
    "eval(reptile_model)"
   ]
  },
  {
   "cell_type": "markdown",
   "metadata": {},
   "source": [
    "# MAML"
   ]
  },
  {
   "cell_type": "code",
   "execution_count": 126,
   "metadata": {},
   "outputs": [],
   "source": [
    "class MAML(MetaLearner):\n",
    "    def __init__(self, lr_inner=0.01, lr_outer=0.001, sgd_steps_inner=2):\n",
    "        super().__init__(True, lr_inner, lr_outer, sgd_steps_inner)\n",
    "\n",
    "    def train(self, model, train_data):\n",
    "        optimizer = torch.optim.Adam(model.parameters(), lr=self.lr_outer)\n",
    "        \n",
    "        for i, task in enumerate(train_data.shuffled_set()):\n",
    "            inner_model = copy.deepcopy(model)\n",
    "            inner_optim = torch.optim.SGD(inner_model.parameters(), lr=self.lr_inner)\n",
    "\n",
    "            for _ in range(self.sgd_steps_inner):\n",
    "                self.inner_train(inner_model, task, inner_optim)\n",
    "            \n",
    "            optimizer.zero_grad()\n",
    "            x, y = task.mini_test_set()\n",
    "            predicted = inner_model(x)\n",
    "            loss = F.mse_loss(predicted, y)\n",
    "            torch.autograd.backward(loss, model.parameters())\n",
    "            optimizer.step()\n",
    "\n",
    "            if i % 5000 == 0:\n",
    "                print(\"grads\", grads)\n",
    "                print(\"iteration:\", i)"
   ]
  },
  {
   "cell_type": "code",
   "execution_count": 127,
   "metadata": {},
   "outputs": [
    {
     "ename": "RuntimeError",
     "evalue": "One of the differentiated Tensors appears to not have been used in the graph. Set allow_unused=True if this is the desired behavior.",
     "output_type": "error",
     "traceback": [
      "\u001b[1;31m---------------------------------------------------------------------------\u001b[0m",
      "\u001b[1;31mRuntimeError\u001b[0m                              Traceback (most recent call last)",
      "\u001b[1;32m<ipython-input-127-704c2bc04e8f>\u001b[0m in \u001b[0;36m<module>\u001b[1;34m\u001b[0m\n\u001b[0;32m      2\u001b[0m \u001b[0mmaml_learning_alg\u001b[0m \u001b[1;33m=\u001b[0m \u001b[0mMAML\u001b[0m\u001b[1;33m(\u001b[0m\u001b[1;33m)\u001b[0m\u001b[1;33m\u001b[0m\u001b[1;33m\u001b[0m\u001b[0m\n\u001b[0;32m      3\u001b[0m \u001b[0mtrain_data\u001b[0m \u001b[1;33m=\u001b[0m \u001b[0mDataGenerator\u001b[0m\u001b[1;33m(\u001b[0m\u001b[1;34m\"sine\"\u001b[0m\u001b[1;33m)\u001b[0m\u001b[1;33m\u001b[0m\u001b[1;33m\u001b[0m\u001b[0m\n\u001b[1;32m----> 4\u001b[1;33m \u001b[0mmaml_learning_alg\u001b[0m\u001b[1;33m.\u001b[0m\u001b[0mtrain\u001b[0m\u001b[1;33m(\u001b[0m\u001b[0mmaml_model\u001b[0m\u001b[1;33m,\u001b[0m \u001b[0mtrain_data\u001b[0m\u001b[1;33m)\u001b[0m\u001b[1;33m\u001b[0m\u001b[1;33m\u001b[0m\u001b[0m\n\u001b[0m",
      "\u001b[1;32m<ipython-input-126-5c7039f9d29a>\u001b[0m in \u001b[0;36mtrain\u001b[1;34m(self, model, train_data)\u001b[0m\n\u001b[0;32m     17\u001b[0m             \u001b[0mpredicted\u001b[0m \u001b[1;33m=\u001b[0m \u001b[0minner_model\u001b[0m\u001b[1;33m(\u001b[0m\u001b[0mx\u001b[0m\u001b[1;33m)\u001b[0m\u001b[1;33m\u001b[0m\u001b[1;33m\u001b[0m\u001b[0m\n\u001b[0;32m     18\u001b[0m             \u001b[0mloss\u001b[0m \u001b[1;33m=\u001b[0m \u001b[0mF\u001b[0m\u001b[1;33m.\u001b[0m\u001b[0mmse_loss\u001b[0m\u001b[1;33m(\u001b[0m\u001b[0mpredicted\u001b[0m\u001b[1;33m,\u001b[0m \u001b[0my\u001b[0m\u001b[1;33m)\u001b[0m\u001b[1;33m\u001b[0m\u001b[1;33m\u001b[0m\u001b[0m\n\u001b[1;32m---> 19\u001b[1;33m             \u001b[0mgrads\u001b[0m \u001b[1;33m=\u001b[0m \u001b[0mtorch\u001b[0m\u001b[1;33m.\u001b[0m\u001b[0mautograd\u001b[0m\u001b[1;33m.\u001b[0m\u001b[0mgrad\u001b[0m\u001b[1;33m(\u001b[0m\u001b[0mloss\u001b[0m\u001b[1;33m,\u001b[0m \u001b[0mmodel\u001b[0m\u001b[1;33m.\u001b[0m\u001b[0mparameters\u001b[0m\u001b[1;33m(\u001b[0m\u001b[1;33m)\u001b[0m\u001b[1;33m)\u001b[0m\u001b[1;33m\u001b[0m\u001b[1;33m\u001b[0m\u001b[0m\n\u001b[0m\u001b[0;32m     20\u001b[0m             \u001b[0moptimizer\u001b[0m\u001b[1;33m.\u001b[0m\u001b[0mstep\u001b[0m\u001b[1;33m(\u001b[0m\u001b[1;33m)\u001b[0m\u001b[1;33m\u001b[0m\u001b[1;33m\u001b[0m\u001b[0m\n\u001b[0;32m     21\u001b[0m \u001b[1;33m\u001b[0m\u001b[0m\n",
      "\u001b[1;32mc:\\python36\\lib\\site-packages\\torch\\autograd\\__init__.py\u001b[0m in \u001b[0;36mgrad\u001b[1;34m(outputs, inputs, grad_outputs, retain_graph, create_graph, only_inputs, allow_unused)\u001b[0m\n\u001b[0;32m    143\u001b[0m     return Variable._execution_engine.run_backward(\n\u001b[0;32m    144\u001b[0m         \u001b[0moutputs\u001b[0m\u001b[1;33m,\u001b[0m \u001b[0mgrad_outputs\u001b[0m\u001b[1;33m,\u001b[0m \u001b[0mretain_graph\u001b[0m\u001b[1;33m,\u001b[0m \u001b[0mcreate_graph\u001b[0m\u001b[1;33m,\u001b[0m\u001b[1;33m\u001b[0m\u001b[1;33m\u001b[0m\u001b[0m\n\u001b[1;32m--> 145\u001b[1;33m         inputs, allow_unused)\n\u001b[0m\u001b[0;32m    146\u001b[0m \u001b[1;33m\u001b[0m\u001b[0m\n\u001b[0;32m    147\u001b[0m \u001b[1;33m\u001b[0m\u001b[0m\n",
      "\u001b[1;31mRuntimeError\u001b[0m: One of the differentiated Tensors appears to not have been used in the graph. Set allow_unused=True if this is the desired behavior."
     ]
    }
   ],
   "source": [
    "maml_model = Net()\n",
    "maml_learning_alg = MAML()\n",
    "train_data = DataGenerator(\"sine\")\n",
    "maml_learning_alg.train(maml_model, train_data)"
   ]
  },
  {
   "cell_type": "code",
   "execution_count": 121,
   "metadata": {},
   "outputs": [],
   "source": []
  }
 ],
 "metadata": {
  "kernelspec": {
   "display_name": "Python 3",
   "language": "python",
   "name": "python3"
  },
  "language_info": {
   "codemirror_mode": {
    "name": "ipython",
    "version": 3
   },
   "file_extension": ".py",
   "mimetype": "text/x-python",
   "name": "python",
   "nbconvert_exporter": "python",
   "pygments_lexer": "ipython3",
   "version": "3.6.8"
  }
 },
 "nbformat": 4,
 "nbformat_minor": 2
}
